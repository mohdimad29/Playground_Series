{
 "cells": [
  {
   "cell_type": "code",
   "execution_count": null,
   "id": "5689709f",
   "metadata": {
    "papermill": {
     "duration": 0.015685,
     "end_time": "2023-03-27T20:38:45.346141",
     "exception": false,
     "start_time": "2023-03-27T20:38:45.330456",
     "status": "completed"
    },
    "tags": []
   },
   "outputs": [],
   "source": []
  },
  {
   "cell_type": "code",
   "execution_count": 1,
   "id": "6cbbb5b6",
   "metadata": {
    "_cell_guid": "b1076dfc-b9ad-4769-8c92-a6c4dae69d19",
    "_uuid": "8f2839f25d086af736a60e9eeb907d3b93b6e0e5",
    "execution": {
     "iopub.execute_input": "2023-03-27T20:38:45.376465Z",
     "iopub.status.busy": "2023-03-27T20:38:45.375717Z",
     "iopub.status.idle": "2023-03-27T20:38:45.390543Z",
     "shell.execute_reply": "2023-03-27T20:38:45.389287Z"
    },
    "papermill": {
     "duration": 0.033965,
     "end_time": "2023-03-27T20:38:45.394137",
     "exception": false,
     "start_time": "2023-03-27T20:38:45.360172",
     "status": "completed"
    },
    "tags": []
   },
   "outputs": [
    {
     "name": "stdout",
     "output_type": "stream",
     "text": [
      "/kaggle/input/playground-series-s3e5/sample_submission.csv\n",
      "/kaggle/input/playground-series-s3e5/train.csv\n",
      "/kaggle/input/playground-series-s3e5/test.csv\n"
     ]
    }
   ],
   "source": [
    "# This Python 3 environment comes with many helpful analytics libraries installed\n",
    "# It is defined by the kaggle/python Docker image: https://github.com/kaggle/docker-python\n",
    "# For example, here's several helpful packages to load\n",
    "\n",
    "import numpy as np # linear algebra\n",
    "import pandas as pd # data processing, CSV file I/O (e.g. pd.read_csv)\n",
    "\n",
    "# Input data files are available in the read-only \"../input/\" directory\n",
    "# For example, running this (by clicking run or pressing Shift+Enter) will list all files under the input directory\n",
    "\n",
    "import os\n",
    "for dirname, _, filenames in os.walk('/kaggle/input'):\n",
    "    for filename in filenames:\n",
    "        print(os.path.join(dirname, filename))\n",
    "\n",
    "# You can write up to 20GB to the current directory (/kaggle/working/) that gets preserved as output when you create a version using \"Save & Run All\" \n",
    "# You can also write temporary files to /kaggle/temp/, but they won't be saved outside of the current session"
   ]
  },
  {
   "cell_type": "code",
   "execution_count": 2,
   "id": "149a7fce",
   "metadata": {
    "execution": {
     "iopub.execute_input": "2023-03-27T20:38:45.426800Z",
     "iopub.status.busy": "2023-03-27T20:38:45.426125Z",
     "iopub.status.idle": "2023-03-27T20:38:47.631009Z",
     "shell.execute_reply": "2023-03-27T20:38:47.629620Z"
    },
    "papermill": {
     "duration": 2.22458,
     "end_time": "2023-03-27T20:38:47.635304",
     "exception": false,
     "start_time": "2023-03-27T20:38:45.410724",
     "status": "completed"
    },
    "tags": []
   },
   "outputs": [
    {
     "name": "stdout",
     "output_type": "stream",
     "text": [
      "Libraries imported\n"
     ]
    }
   ],
   "source": [
    "#Importing Libraries \n",
    "import pandas as pd;pd.set_option('display.max_columns', 100)\n",
    "import numpy as np\n",
    "import seaborn as sns\n",
    "import plotly.express as px\n",
    "import matplotlib.pyplot as plt\n",
    "import warnings\n",
    "warnings.filterwarnings('ignore')\n",
    "print('Libraries imported')"
   ]
  },
  {
   "cell_type": "code",
   "execution_count": 3,
   "id": "6a100a4f",
   "metadata": {
    "execution": {
     "iopub.execute_input": "2023-03-27T20:38:47.666244Z",
     "iopub.status.busy": "2023-03-27T20:38:47.665404Z",
     "iopub.status.idle": "2023-03-27T20:38:47.696606Z",
     "shell.execute_reply": "2023-03-27T20:38:47.695572Z"
    },
    "papermill": {
     "duration": 0.049224,
     "end_time": "2023-03-27T20:38:47.699334",
     "exception": false,
     "start_time": "2023-03-27T20:38:47.650110",
     "status": "completed"
    },
    "tags": []
   },
   "outputs": [],
   "source": [
    "#Gathering Data\n",
    "df_train=pd.read_csv(\"/kaggle/input/playground-series-s3e5/train.csv\")\n",
    "df_test=pd.read_csv(\"/kaggle/input/playground-series-s3e5/test.csv\")"
   ]
  },
  {
   "cell_type": "code",
   "execution_count": 4,
   "id": "2111ef83",
   "metadata": {
    "execution": {
     "iopub.execute_input": "2023-03-27T20:38:47.729165Z",
     "iopub.status.busy": "2023-03-27T20:38:47.728781Z",
     "iopub.status.idle": "2023-03-27T20:38:47.757235Z",
     "shell.execute_reply": "2023-03-27T20:38:47.756017Z"
    },
    "papermill": {
     "duration": 0.045996,
     "end_time": "2023-03-27T20:38:47.759522",
     "exception": false,
     "start_time": "2023-03-27T20:38:47.713526",
     "status": "completed"
    },
    "tags": []
   },
   "outputs": [
    {
     "data": {
      "text/html": [
       "<div>\n",
       "<style scoped>\n",
       "    .dataframe tbody tr th:only-of-type {\n",
       "        vertical-align: middle;\n",
       "    }\n",
       "\n",
       "    .dataframe tbody tr th {\n",
       "        vertical-align: top;\n",
       "    }\n",
       "\n",
       "    .dataframe thead th {\n",
       "        text-align: right;\n",
       "    }\n",
       "</style>\n",
       "<table border=\"1\" class=\"dataframe\">\n",
       "  <thead>\n",
       "    <tr style=\"text-align: right;\">\n",
       "      <th></th>\n",
       "      <th>Id</th>\n",
       "      <th>fixed acidity</th>\n",
       "      <th>volatile acidity</th>\n",
       "      <th>citric acid</th>\n",
       "      <th>residual sugar</th>\n",
       "      <th>chlorides</th>\n",
       "      <th>free sulfur dioxide</th>\n",
       "      <th>total sulfur dioxide</th>\n",
       "      <th>density</th>\n",
       "      <th>pH</th>\n",
       "      <th>sulphates</th>\n",
       "      <th>alcohol</th>\n",
       "      <th>quality</th>\n",
       "    </tr>\n",
       "  </thead>\n",
       "  <tbody>\n",
       "    <tr>\n",
       "      <th>0</th>\n",
       "      <td>0</td>\n",
       "      <td>8.0</td>\n",
       "      <td>0.50</td>\n",
       "      <td>0.39</td>\n",
       "      <td>2.2</td>\n",
       "      <td>0.073</td>\n",
       "      <td>30.0</td>\n",
       "      <td>39.0</td>\n",
       "      <td>0.99572</td>\n",
       "      <td>3.33</td>\n",
       "      <td>0.77</td>\n",
       "      <td>12.1</td>\n",
       "      <td>6</td>\n",
       "    </tr>\n",
       "    <tr>\n",
       "      <th>1</th>\n",
       "      <td>1</td>\n",
       "      <td>9.3</td>\n",
       "      <td>0.30</td>\n",
       "      <td>0.73</td>\n",
       "      <td>2.3</td>\n",
       "      <td>0.092</td>\n",
       "      <td>30.0</td>\n",
       "      <td>67.0</td>\n",
       "      <td>0.99854</td>\n",
       "      <td>3.32</td>\n",
       "      <td>0.67</td>\n",
       "      <td>12.8</td>\n",
       "      <td>6</td>\n",
       "    </tr>\n",
       "    <tr>\n",
       "      <th>2</th>\n",
       "      <td>2</td>\n",
       "      <td>7.1</td>\n",
       "      <td>0.51</td>\n",
       "      <td>0.03</td>\n",
       "      <td>2.1</td>\n",
       "      <td>0.059</td>\n",
       "      <td>3.0</td>\n",
       "      <td>12.0</td>\n",
       "      <td>0.99660</td>\n",
       "      <td>3.52</td>\n",
       "      <td>0.73</td>\n",
       "      <td>11.3</td>\n",
       "      <td>7</td>\n",
       "    </tr>\n",
       "    <tr>\n",
       "      <th>3</th>\n",
       "      <td>3</td>\n",
       "      <td>8.1</td>\n",
       "      <td>0.87</td>\n",
       "      <td>0.22</td>\n",
       "      <td>2.6</td>\n",
       "      <td>0.084</td>\n",
       "      <td>11.0</td>\n",
       "      <td>65.0</td>\n",
       "      <td>0.99730</td>\n",
       "      <td>3.20</td>\n",
       "      <td>0.53</td>\n",
       "      <td>9.8</td>\n",
       "      <td>5</td>\n",
       "    </tr>\n",
       "    <tr>\n",
       "      <th>4</th>\n",
       "      <td>4</td>\n",
       "      <td>8.5</td>\n",
       "      <td>0.36</td>\n",
       "      <td>0.30</td>\n",
       "      <td>2.3</td>\n",
       "      <td>0.079</td>\n",
       "      <td>10.0</td>\n",
       "      <td>45.0</td>\n",
       "      <td>0.99444</td>\n",
       "      <td>3.20</td>\n",
       "      <td>1.36</td>\n",
       "      <td>9.5</td>\n",
       "      <td>6</td>\n",
       "    </tr>\n",
       "  </tbody>\n",
       "</table>\n",
       "</div>"
      ],
      "text/plain": [
       "   Id  fixed acidity  volatile acidity  citric acid  residual sugar  \\\n",
       "0   0            8.0              0.50         0.39             2.2   \n",
       "1   1            9.3              0.30         0.73             2.3   \n",
       "2   2            7.1              0.51         0.03             2.1   \n",
       "3   3            8.1              0.87         0.22             2.6   \n",
       "4   4            8.5              0.36         0.30             2.3   \n",
       "\n",
       "   chlorides  free sulfur dioxide  total sulfur dioxide  density    pH  \\\n",
       "0      0.073                 30.0                  39.0  0.99572  3.33   \n",
       "1      0.092                 30.0                  67.0  0.99854  3.32   \n",
       "2      0.059                  3.0                  12.0  0.99660  3.52   \n",
       "3      0.084                 11.0                  65.0  0.99730  3.20   \n",
       "4      0.079                 10.0                  45.0  0.99444  3.20   \n",
       "\n",
       "   sulphates  alcohol  quality  \n",
       "0       0.77     12.1        6  \n",
       "1       0.67     12.8        6  \n",
       "2       0.73     11.3        7  \n",
       "3       0.53      9.8        5  \n",
       "4       1.36      9.5        6  "
      ]
     },
     "execution_count": 4,
     "metadata": {},
     "output_type": "execute_result"
    }
   ],
   "source": [
    "df_train.head(5)"
   ]
  },
  {
   "cell_type": "code",
   "execution_count": 5,
   "id": "60663c9c",
   "metadata": {
    "execution": {
     "iopub.execute_input": "2023-03-27T20:38:47.790103Z",
     "iopub.status.busy": "2023-03-27T20:38:47.789313Z",
     "iopub.status.idle": "2023-03-27T20:38:47.802120Z",
     "shell.execute_reply": "2023-03-27T20:38:47.801282Z"
    },
    "papermill": {
     "duration": 0.030643,
     "end_time": "2023-03-27T20:38:47.804392",
     "exception": false,
     "start_time": "2023-03-27T20:38:47.773749",
     "status": "completed"
    },
    "tags": []
   },
   "outputs": [],
   "source": [
    "df_train.drop(columns='Id',axis=1,inplace=True)\n",
    "df_test.drop(columns='Id',axis=1,inplace=True)"
   ]
  },
  {
   "cell_type": "code",
   "execution_count": 6,
   "id": "23e9bff2",
   "metadata": {
    "execution": {
     "iopub.execute_input": "2023-03-27T20:38:47.835416Z",
     "iopub.status.busy": "2023-03-27T20:38:47.834261Z",
     "iopub.status.idle": "2023-03-27T20:38:47.959687Z",
     "shell.execute_reply": "2023-03-27T20:38:47.958600Z"
    },
    "papermill": {
     "duration": 0.143036,
     "end_time": "2023-03-27T20:38:47.961949",
     "exception": false,
     "start_time": "2023-03-27T20:38:47.818913",
     "status": "completed"
    },
    "tags": []
   },
   "outputs": [
    {
     "name": "stdout",
     "output_type": "stream",
     "text": [
      "---------------Train Dataset Shape---------------\n"
     ]
    },
    {
     "data": {
      "text/plain": [
       "(2056, 12)"
      ]
     },
     "metadata": {},
     "output_type": "display_data"
    },
    {
     "name": "stdout",
     "output_type": "stream",
     "text": [
      "---------------Describing Numerical Variables---------------\n"
     ]
    },
    {
     "data": {
      "text/html": [
       "<div>\n",
       "<style scoped>\n",
       "    .dataframe tbody tr th:only-of-type {\n",
       "        vertical-align: middle;\n",
       "    }\n",
       "\n",
       "    .dataframe tbody tr th {\n",
       "        vertical-align: top;\n",
       "    }\n",
       "\n",
       "    .dataframe thead th {\n",
       "        text-align: right;\n",
       "    }\n",
       "</style>\n",
       "<table border=\"1\" class=\"dataframe\">\n",
       "  <thead>\n",
       "    <tr style=\"text-align: right;\">\n",
       "      <th></th>\n",
       "      <th>count</th>\n",
       "      <th>mean</th>\n",
       "      <th>std</th>\n",
       "      <th>min</th>\n",
       "      <th>25%</th>\n",
       "      <th>50%</th>\n",
       "      <th>75%</th>\n",
       "      <th>max</th>\n",
       "    </tr>\n",
       "  </thead>\n",
       "  <tbody>\n",
       "    <tr>\n",
       "      <th>fixed acidity</th>\n",
       "      <td>2056.0</td>\n",
       "      <td>8.365175</td>\n",
       "      <td>1.705390</td>\n",
       "      <td>5.00000</td>\n",
       "      <td>7.2000</td>\n",
       "      <td>7.9500</td>\n",
       "      <td>9.2000</td>\n",
       "      <td>15.90000</td>\n",
       "    </tr>\n",
       "    <tr>\n",
       "      <th>volatile acidity</th>\n",
       "      <td>2056.0</td>\n",
       "      <td>0.527601</td>\n",
       "      <td>0.173164</td>\n",
       "      <td>0.18000</td>\n",
       "      <td>0.3900</td>\n",
       "      <td>0.5200</td>\n",
       "      <td>0.6400</td>\n",
       "      <td>1.58000</td>\n",
       "    </tr>\n",
       "    <tr>\n",
       "      <th>citric acid</th>\n",
       "      <td>2056.0</td>\n",
       "      <td>0.265058</td>\n",
       "      <td>0.188267</td>\n",
       "      <td>0.00000</td>\n",
       "      <td>0.0900</td>\n",
       "      <td>0.2500</td>\n",
       "      <td>0.4200</td>\n",
       "      <td>0.76000</td>\n",
       "    </tr>\n",
       "    <tr>\n",
       "      <th>residual sugar</th>\n",
       "      <td>2056.0</td>\n",
       "      <td>2.398881</td>\n",
       "      <td>0.858824</td>\n",
       "      <td>1.20000</td>\n",
       "      <td>1.9000</td>\n",
       "      <td>2.2000</td>\n",
       "      <td>2.6000</td>\n",
       "      <td>14.00000</td>\n",
       "    </tr>\n",
       "    <tr>\n",
       "      <th>chlorides</th>\n",
       "      <td>2056.0</td>\n",
       "      <td>0.081856</td>\n",
       "      <td>0.023729</td>\n",
       "      <td>0.01200</td>\n",
       "      <td>0.0710</td>\n",
       "      <td>0.0790</td>\n",
       "      <td>0.0900</td>\n",
       "      <td>0.41400</td>\n",
       "    </tr>\n",
       "    <tr>\n",
       "      <th>free sulfur dioxide</th>\n",
       "      <td>2056.0</td>\n",
       "      <td>16.955982</td>\n",
       "      <td>10.009710</td>\n",
       "      <td>1.00000</td>\n",
       "      <td>8.0000</td>\n",
       "      <td>16.0000</td>\n",
       "      <td>24.0000</td>\n",
       "      <td>68.00000</td>\n",
       "    </tr>\n",
       "    <tr>\n",
       "      <th>total sulfur dioxide</th>\n",
       "      <td>2056.0</td>\n",
       "      <td>49.236868</td>\n",
       "      <td>32.961141</td>\n",
       "      <td>7.00000</td>\n",
       "      <td>22.0000</td>\n",
       "      <td>44.0000</td>\n",
       "      <td>65.0000</td>\n",
       "      <td>289.00000</td>\n",
       "    </tr>\n",
       "    <tr>\n",
       "      <th>density</th>\n",
       "      <td>2056.0</td>\n",
       "      <td>0.996748</td>\n",
       "      <td>0.001827</td>\n",
       "      <td>0.99007</td>\n",
       "      <td>0.9956</td>\n",
       "      <td>0.9967</td>\n",
       "      <td>0.9978</td>\n",
       "      <td>1.00369</td>\n",
       "    </tr>\n",
       "    <tr>\n",
       "      <th>pH</th>\n",
       "      <td>2056.0</td>\n",
       "      <td>3.310569</td>\n",
       "      <td>0.142321</td>\n",
       "      <td>2.74000</td>\n",
       "      <td>3.2000</td>\n",
       "      <td>3.3100</td>\n",
       "      <td>3.3900</td>\n",
       "      <td>3.78000</td>\n",
       "    </tr>\n",
       "    <tr>\n",
       "      <th>sulphates</th>\n",
       "      <td>2056.0</td>\n",
       "      <td>0.641308</td>\n",
       "      <td>0.137942</td>\n",
       "      <td>0.39000</td>\n",
       "      <td>0.5500</td>\n",
       "      <td>0.6100</td>\n",
       "      <td>0.7200</td>\n",
       "      <td>1.95000</td>\n",
       "    </tr>\n",
       "    <tr>\n",
       "      <th>alcohol</th>\n",
       "      <td>2056.0</td>\n",
       "      <td>10.414972</td>\n",
       "      <td>1.028825</td>\n",
       "      <td>8.70000</td>\n",
       "      <td>9.5000</td>\n",
       "      <td>10.1000</td>\n",
       "      <td>11.0000</td>\n",
       "      <td>14.00000</td>\n",
       "    </tr>\n",
       "    <tr>\n",
       "      <th>quality</th>\n",
       "      <td>2056.0</td>\n",
       "      <td>5.720817</td>\n",
       "      <td>0.853146</td>\n",
       "      <td>3.00000</td>\n",
       "      <td>5.0000</td>\n",
       "      <td>6.0000</td>\n",
       "      <td>6.0000</td>\n",
       "      <td>8.00000</td>\n",
       "    </tr>\n",
       "  </tbody>\n",
       "</table>\n",
       "</div>"
      ],
      "text/plain": [
       "                       count       mean        std      min      25%      50%  \\\n",
       "fixed acidity         2056.0   8.365175   1.705390  5.00000   7.2000   7.9500   \n",
       "volatile acidity      2056.0   0.527601   0.173164  0.18000   0.3900   0.5200   \n",
       "citric acid           2056.0   0.265058   0.188267  0.00000   0.0900   0.2500   \n",
       "residual sugar        2056.0   2.398881   0.858824  1.20000   1.9000   2.2000   \n",
       "chlorides             2056.0   0.081856   0.023729  0.01200   0.0710   0.0790   \n",
       "free sulfur dioxide   2056.0  16.955982  10.009710  1.00000   8.0000  16.0000   \n",
       "total sulfur dioxide  2056.0  49.236868  32.961141  7.00000  22.0000  44.0000   \n",
       "density               2056.0   0.996748   0.001827  0.99007   0.9956   0.9967   \n",
       "pH                    2056.0   3.310569   0.142321  2.74000   3.2000   3.3100   \n",
       "sulphates             2056.0   0.641308   0.137942  0.39000   0.5500   0.6100   \n",
       "alcohol               2056.0  10.414972   1.028825  8.70000   9.5000  10.1000   \n",
       "quality               2056.0   5.720817   0.853146  3.00000   5.0000   6.0000   \n",
       "\n",
       "                          75%        max  \n",
       "fixed acidity          9.2000   15.90000  \n",
       "volatile acidity       0.6400    1.58000  \n",
       "citric acid            0.4200    0.76000  \n",
       "residual sugar         2.6000   14.00000  \n",
       "chlorides              0.0900    0.41400  \n",
       "free sulfur dioxide   24.0000   68.00000  \n",
       "total sulfur dioxide  65.0000  289.00000  \n",
       "density                0.9978    1.00369  \n",
       "pH                     3.3900    3.78000  \n",
       "sulphates              0.7200    1.95000  \n",
       "alcohol               11.0000   14.00000  \n",
       "quality                6.0000    8.00000  "
      ]
     },
     "metadata": {},
     "output_type": "display_data"
    },
    {
     "name": "stdout",
     "output_type": "stream",
     "text": [
      "---------------Feature Information---------------\n",
      "<class 'pandas.core.frame.DataFrame'>\n",
      "RangeIndex: 2056 entries, 0 to 2055\n",
      "Data columns (total 12 columns):\n",
      " #   Column                Non-Null Count  Dtype  \n",
      "---  ------                --------------  -----  \n",
      " 0   fixed acidity         2056 non-null   float64\n",
      " 1   volatile acidity      2056 non-null   float64\n",
      " 2   citric acid           2056 non-null   float64\n",
      " 3   residual sugar        2056 non-null   float64\n",
      " 4   chlorides             2056 non-null   float64\n",
      " 5   free sulfur dioxide   2056 non-null   float64\n",
      " 6   total sulfur dioxide  2056 non-null   float64\n",
      " 7   density               2056 non-null   float64\n",
      " 8   pH                    2056 non-null   float64\n",
      " 9   sulphates             2056 non-null   float64\n",
      " 10  alcohol               2056 non-null   float64\n",
      " 11  quality               2056 non-null   int64  \n",
      "dtypes: float64(11), int64(1)\n",
      "memory usage: 192.9 KB\n"
     ]
    },
    {
     "data": {
      "text/plain": [
       "None"
      ]
     },
     "metadata": {},
     "output_type": "display_data"
    },
    {
     "name": "stdout",
     "output_type": "stream",
     "text": [
      "---------------Test Dataset Shape---------------\n"
     ]
    },
    {
     "data": {
      "text/plain": [
       "(1372, 11)"
      ]
     },
     "metadata": {},
     "output_type": "display_data"
    },
    {
     "name": "stdout",
     "output_type": "stream",
     "text": [
      "---------------Describing Numerical Variables---------------\n"
     ]
    },
    {
     "data": {
      "text/html": [
       "<div>\n",
       "<style scoped>\n",
       "    .dataframe tbody tr th:only-of-type {\n",
       "        vertical-align: middle;\n",
       "    }\n",
       "\n",
       "    .dataframe tbody tr th {\n",
       "        vertical-align: top;\n",
       "    }\n",
       "\n",
       "    .dataframe thead th {\n",
       "        text-align: right;\n",
       "    }\n",
       "</style>\n",
       "<table border=\"1\" class=\"dataframe\">\n",
       "  <thead>\n",
       "    <tr style=\"text-align: right;\">\n",
       "      <th></th>\n",
       "      <th>count</th>\n",
       "      <th>mean</th>\n",
       "      <th>std</th>\n",
       "      <th>min</th>\n",
       "      <th>25%</th>\n",
       "      <th>50%</th>\n",
       "      <th>75%</th>\n",
       "      <th>max</th>\n",
       "    </tr>\n",
       "  </thead>\n",
       "  <tbody>\n",
       "    <tr>\n",
       "      <th>fixed acidity</th>\n",
       "      <td>1372.0</td>\n",
       "      <td>8.369606</td>\n",
       "      <td>1.664694</td>\n",
       "      <td>4.90000</td>\n",
       "      <td>7.10000</td>\n",
       "      <td>7.9000</td>\n",
       "      <td>9.1000</td>\n",
       "      <td>15.6000</td>\n",
       "    </tr>\n",
       "    <tr>\n",
       "      <th>volatile acidity</th>\n",
       "      <td>1372.0</td>\n",
       "      <td>0.524311</td>\n",
       "      <td>0.176942</td>\n",
       "      <td>0.12000</td>\n",
       "      <td>0.39000</td>\n",
       "      <td>0.5000</td>\n",
       "      <td>0.6350</td>\n",
       "      <td>1.3300</td>\n",
       "    </tr>\n",
       "    <tr>\n",
       "      <th>citric acid</th>\n",
       "      <td>1372.0</td>\n",
       "      <td>0.270569</td>\n",
       "      <td>0.185731</td>\n",
       "      <td>0.00000</td>\n",
       "      <td>0.11000</td>\n",
       "      <td>0.2600</td>\n",
       "      <td>0.4200</td>\n",
       "      <td>0.7600</td>\n",
       "    </tr>\n",
       "    <tr>\n",
       "      <th>residual sugar</th>\n",
       "      <td>1372.0</td>\n",
       "      <td>2.415926</td>\n",
       "      <td>0.921155</td>\n",
       "      <td>1.30000</td>\n",
       "      <td>2.00000</td>\n",
       "      <td>2.2000</td>\n",
       "      <td>2.5000</td>\n",
       "      <td>8.3000</td>\n",
       "    </tr>\n",
       "    <tr>\n",
       "      <th>chlorides</th>\n",
       "      <td>1372.0</td>\n",
       "      <td>0.081307</td>\n",
       "      <td>0.026566</td>\n",
       "      <td>0.01200</td>\n",
       "      <td>0.07000</td>\n",
       "      <td>0.0780</td>\n",
       "      <td>0.0870</td>\n",
       "      <td>0.4670</td>\n",
       "    </tr>\n",
       "    <tr>\n",
       "      <th>free sulfur dioxide</th>\n",
       "      <td>1372.0</td>\n",
       "      <td>17.162536</td>\n",
       "      <td>9.974082</td>\n",
       "      <td>1.00000</td>\n",
       "      <td>8.00000</td>\n",
       "      <td>16.0000</td>\n",
       "      <td>24.0000</td>\n",
       "      <td>68.0000</td>\n",
       "    </tr>\n",
       "    <tr>\n",
       "      <th>total sulfur dioxide</th>\n",
       "      <td>1372.0</td>\n",
       "      <td>49.089286</td>\n",
       "      <td>32.803721</td>\n",
       "      <td>8.00000</td>\n",
       "      <td>23.00000</td>\n",
       "      <td>43.0000</td>\n",
       "      <td>66.0000</td>\n",
       "      <td>165.0000</td>\n",
       "    </tr>\n",
       "    <tr>\n",
       "      <th>density</th>\n",
       "      <td>1372.0</td>\n",
       "      <td>0.996670</td>\n",
       "      <td>0.001822</td>\n",
       "      <td>0.99007</td>\n",
       "      <td>0.99538</td>\n",
       "      <td>0.9966</td>\n",
       "      <td>0.9978</td>\n",
       "      <td>1.0032</td>\n",
       "    </tr>\n",
       "    <tr>\n",
       "      <th>pH</th>\n",
       "      <td>1372.0</td>\n",
       "      <td>3.312223</td>\n",
       "      <td>0.141405</td>\n",
       "      <td>2.74000</td>\n",
       "      <td>3.21000</td>\n",
       "      <td>3.3100</td>\n",
       "      <td>3.3900</td>\n",
       "      <td>4.0100</td>\n",
       "    </tr>\n",
       "    <tr>\n",
       "      <th>sulphates</th>\n",
       "      <td>1372.0</td>\n",
       "      <td>0.647267</td>\n",
       "      <td>0.134792</td>\n",
       "      <td>0.39000</td>\n",
       "      <td>0.55000</td>\n",
       "      <td>0.6200</td>\n",
       "      <td>0.7300</td>\n",
       "      <td>1.6200</td>\n",
       "    </tr>\n",
       "    <tr>\n",
       "      <th>alcohol</th>\n",
       "      <td>1372.0</td>\n",
       "      <td>10.473081</td>\n",
       "      <td>1.027170</td>\n",
       "      <td>8.80000</td>\n",
       "      <td>9.60000</td>\n",
       "      <td>10.2000</td>\n",
       "      <td>11.2000</td>\n",
       "      <td>14.0000</td>\n",
       "    </tr>\n",
       "  </tbody>\n",
       "</table>\n",
       "</div>"
      ],
      "text/plain": [
       "                       count       mean        std      min       25%  \\\n",
       "fixed acidity         1372.0   8.369606   1.664694  4.90000   7.10000   \n",
       "volatile acidity      1372.0   0.524311   0.176942  0.12000   0.39000   \n",
       "citric acid           1372.0   0.270569   0.185731  0.00000   0.11000   \n",
       "residual sugar        1372.0   2.415926   0.921155  1.30000   2.00000   \n",
       "chlorides             1372.0   0.081307   0.026566  0.01200   0.07000   \n",
       "free sulfur dioxide   1372.0  17.162536   9.974082  1.00000   8.00000   \n",
       "total sulfur dioxide  1372.0  49.089286  32.803721  8.00000  23.00000   \n",
       "density               1372.0   0.996670   0.001822  0.99007   0.99538   \n",
       "pH                    1372.0   3.312223   0.141405  2.74000   3.21000   \n",
       "sulphates             1372.0   0.647267   0.134792  0.39000   0.55000   \n",
       "alcohol               1372.0  10.473081   1.027170  8.80000   9.60000   \n",
       "\n",
       "                          50%      75%       max  \n",
       "fixed acidity          7.9000   9.1000   15.6000  \n",
       "volatile acidity       0.5000   0.6350    1.3300  \n",
       "citric acid            0.2600   0.4200    0.7600  \n",
       "residual sugar         2.2000   2.5000    8.3000  \n",
       "chlorides              0.0780   0.0870    0.4670  \n",
       "free sulfur dioxide   16.0000  24.0000   68.0000  \n",
       "total sulfur dioxide  43.0000  66.0000  165.0000  \n",
       "density                0.9966   0.9978    1.0032  \n",
       "pH                     3.3100   3.3900    4.0100  \n",
       "sulphates              0.6200   0.7300    1.6200  \n",
       "alcohol               10.2000  11.2000   14.0000  "
      ]
     },
     "metadata": {},
     "output_type": "display_data"
    },
    {
     "name": "stdout",
     "output_type": "stream",
     "text": [
      "---------------Feature Information---------------\n",
      "<class 'pandas.core.frame.DataFrame'>\n",
      "RangeIndex: 1372 entries, 0 to 1371\n",
      "Data columns (total 11 columns):\n",
      " #   Column                Non-Null Count  Dtype  \n",
      "---  ------                --------------  -----  \n",
      " 0   fixed acidity         1372 non-null   float64\n",
      " 1   volatile acidity      1372 non-null   float64\n",
      " 2   citric acid           1372 non-null   float64\n",
      " 3   residual sugar        1372 non-null   float64\n",
      " 4   chlorides             1372 non-null   float64\n",
      " 5   free sulfur dioxide   1372 non-null   float64\n",
      " 6   total sulfur dioxide  1372 non-null   float64\n",
      " 7   density               1372 non-null   float64\n",
      " 8   pH                    1372 non-null   float64\n",
      " 9   sulphates             1372 non-null   float64\n",
      " 10  alcohol               1372 non-null   float64\n",
      "dtypes: float64(11)\n",
      "memory usage: 118.0 KB\n"
     ]
    },
    {
     "data": {
      "text/plain": [
       "None"
      ]
     },
     "metadata": {},
     "output_type": "display_data"
    }
   ],
   "source": [
    "# Brief Introduction of Training Data\n",
    "print(\"---------------Train Dataset Shape---------------\")\n",
    "display(df_train.shape)\n",
    "print(\"---------------Describing Numerical Variables---------------\")\n",
    "display(df_train.describe(exclude=\"object\").T)\n",
    "print(\"---------------Feature Information---------------\")\n",
    "display(df_train.info())\n",
    "## Brief Introduction of Testing Data\n",
    "print(\"---------------Test Dataset Shape---------------\")\n",
    "display(df_test.shape)\n",
    "print(\"---------------Describing Numerical Variables---------------\")\n",
    "display(df_test.describe(exclude=\"object\").T)\n",
    "print(\"---------------Feature Information---------------\")\n",
    "display(df_test.info())"
   ]
  },
  {
   "cell_type": "code",
   "execution_count": 7,
   "id": "982bd23f",
   "metadata": {
    "execution": {
     "iopub.execute_input": "2023-03-27T20:38:47.994950Z",
     "iopub.status.busy": "2023-03-27T20:38:47.994252Z",
     "iopub.status.idle": "2023-03-27T20:38:48.007509Z",
     "shell.execute_reply": "2023-03-27T20:38:48.006384Z"
    },
    "papermill": {
     "duration": 0.032303,
     "end_time": "2023-03-27T20:38:48.009914",
     "exception": false,
     "start_time": "2023-03-27T20:38:47.977611",
     "status": "completed"
    },
    "tags": []
   },
   "outputs": [
    {
     "data": {
      "text/plain": [
       "fixed acidity            87\n",
       "volatile acidity        113\n",
       "citric acid              71\n",
       "residual sugar           66\n",
       "chlorides               103\n",
       "free sulfur dioxide      49\n",
       "total sulfur dioxide    126\n",
       "density                 313\n",
       "pH                       77\n",
       "sulphates                73\n",
       "alcohol                  53\n",
       "quality                   6\n",
       "dtype: int64"
      ]
     },
     "execution_count": 7,
     "metadata": {},
     "output_type": "execute_result"
    }
   ],
   "source": [
    "df_train.nunique()"
   ]
  },
  {
   "cell_type": "code",
   "execution_count": 8,
   "id": "be04fad8",
   "metadata": {
    "execution": {
     "iopub.execute_input": "2023-03-27T20:38:48.042490Z",
     "iopub.status.busy": "2023-03-27T20:38:48.042052Z",
     "iopub.status.idle": "2023-03-27T20:38:48.057944Z",
     "shell.execute_reply": "2023-03-27T20:38:48.056840Z"
    },
    "papermill": {
     "duration": 0.034761,
     "end_time": "2023-03-27T20:38:48.060116",
     "exception": false,
     "start_time": "2023-03-27T20:38:48.025355",
     "status": "completed"
    },
    "tags": []
   },
   "outputs": [
    {
     "data": {
      "text/plain": [
       "fixed acidity            True\n",
       "volatile acidity         True\n",
       "citric acid             False\n",
       "residual sugar           True\n",
       "chlorides                True\n",
       "free sulfur dioxide      True\n",
       "total sulfur dioxide     True\n",
       "density                  True\n",
       "pH                       True\n",
       "sulphates                True\n",
       "alcohol                  True\n",
       "quality                  True\n",
       "dtype: bool"
      ]
     },
     "execution_count": 8,
     "metadata": {},
     "output_type": "execute_result"
    }
   ],
   "source": [
    "#Checking Outilers and later visualization\n",
    "#Checking Outilers\n",
    "Q1=df_train.quantile(0.25)\n",
    "Q3=df_train.quantile(0.75)\n",
    "IQR=Q3-Q1\n",
    "IQR\n",
    "((df_train<(Q1-1.5*IQR)) | (df_train>(Q3+1.5*IQR))).any()"
   ]
  },
  {
   "cell_type": "code",
   "execution_count": 9,
   "id": "1e0c530f",
   "metadata": {
    "execution": {
     "iopub.execute_input": "2023-03-27T20:38:48.093136Z",
     "iopub.status.busy": "2023-03-27T20:38:48.092738Z",
     "iopub.status.idle": "2023-03-27T20:38:48.099218Z",
     "shell.execute_reply": "2023-03-27T20:38:48.098140Z"
    },
    "papermill": {
     "duration": 0.025745,
     "end_time": "2023-03-27T20:38:48.101403",
     "exception": false,
     "start_time": "2023-03-27T20:38:48.075658",
     "status": "completed"
    },
    "tags": []
   },
   "outputs": [
    {
     "data": {
      "text/plain": [
       "Index(['fixed acidity', 'volatile acidity', 'citric acid', 'residual sugar',\n",
       "       'chlorides', 'free sulfur dioxide', 'total sulfur dioxide', 'density',\n",
       "       'pH', 'sulphates', 'alcohol', 'quality'],\n",
       "      dtype='object')"
      ]
     },
     "execution_count": 9,
     "metadata": {},
     "output_type": "execute_result"
    }
   ],
   "source": [
    "df_train.columns"
   ]
  },
  {
   "cell_type": "code",
   "execution_count": 10,
   "id": "eaef0b32",
   "metadata": {
    "execution": {
     "iopub.execute_input": "2023-03-27T20:38:48.135045Z",
     "iopub.status.busy": "2023-03-27T20:38:48.134403Z",
     "iopub.status.idle": "2023-03-27T20:38:48.138783Z",
     "shell.execute_reply": "2023-03-27T20:38:48.138038Z"
    },
    "papermill": {
     "duration": 0.023532,
     "end_time": "2023-03-27T20:38:48.140717",
     "exception": false,
     "start_time": "2023-03-27T20:38:48.117185",
     "status": "completed"
    },
    "tags": []
   },
   "outputs": [],
   "source": [
    "data=['fixed acidity', 'volatile acidity', 'citric acid', 'residual sugar',\n",
    "       'chlorides', 'free sulfur dioxide', 'total sulfur dioxide', 'density',\n",
    "       'pH', 'sulphates', 'alcohol']"
   ]
  },
  {
   "cell_type": "code",
   "execution_count": 11,
   "id": "0a719ed3",
   "metadata": {
    "execution": {
     "iopub.execute_input": "2023-03-27T20:38:48.174681Z",
     "iopub.status.busy": "2023-03-27T20:38:48.173783Z",
     "iopub.status.idle": "2023-03-27T20:38:49.894919Z",
     "shell.execute_reply": "2023-03-27T20:38:49.893894Z"
    },
    "papermill": {
     "duration": 1.740599,
     "end_time": "2023-03-27T20:38:49.897295",
     "exception": false,
     "start_time": "2023-03-27T20:38:48.156696",
     "status": "completed"
    },
    "tags": []
   },
   "outputs": [
    {
     "data": {
      "image/png": "[encoded data removed]",
      "text/plain": [
       "<Figure size 1080x2160 with 30 Axes>"
      ]
     },
     "metadata": {
      "needs_background": "light"
     },
     "output_type": "display_data"
    }
   ],
   "source": [
    "#visualization of outilers, barplot to project outliers.\n",
    "# plt.figure()\n",
    "df_train[data].plot(kind='box',subplots=True,sharex=False,sharey=False,layout=(10,3),figsize=(15,30))\n",
    "plt.show()"
   ]
  },
  {
   "cell_type": "code",
   "execution_count": 12,
   "id": "7ce5ff5f",
   "metadata": {
    "execution": {
     "iopub.execute_input": "2023-03-27T20:38:49.932279Z",
     "iopub.status.busy": "2023-03-27T20:38:49.931877Z",
     "iopub.status.idle": "2023-03-27T20:38:49.937980Z",
     "shell.execute_reply": "2023-03-27T20:38:49.936970Z"
    },
    "papermill": {
     "duration": 0.026427,
     "end_time": "2023-03-27T20:38:49.940320",
     "exception": false,
     "start_time": "2023-03-27T20:38:49.913893",
     "status": "completed"
    },
    "tags": []
   },
   "outputs": [],
   "source": [
    "#defining outliers\n",
    "def find_outliers_IQR(df_train):\n",
    "\n",
    "   q1=df_train.quantile(0.25)\n",
    "\n",
    "   q3=df_train.quantile(0.75)\n",
    "\n",
    "   IQR=q3-q1\n",
    "\n",
    "   outliers = df_train[((df_train<(q1-1.5*IQR)) | (df_train>(q3+1.5*IQR)))]\n",
    "\n",
    "   return outliers"
   ]
  },
  {
   "cell_type": "code",
   "execution_count": 13,
   "id": "2b030221",
   "metadata": {
    "execution": {
     "iopub.execute_input": "2023-03-27T20:38:49.975849Z",
     "iopub.status.busy": "2023-03-27T20:38:49.975445Z",
     "iopub.status.idle": "2023-03-27T20:38:49.989101Z",
     "shell.execute_reply": "2023-03-27T20:38:49.987895Z"
    },
    "papermill": {
     "duration": 0.034189,
     "end_time": "2023-03-27T20:38:49.991439",
     "exception": false,
     "start_time": "2023-03-27T20:38:49.957250",
     "status": "completed"
    },
    "tags": []
   },
   "outputs": [
    {
     "name": "stdout",
     "output_type": "stream",
     "text": [
      "number of outliers: 74\n",
      "max outlier value: 0.414\n",
      "min outlier value: 0.012\n"
     ]
    },
    {
     "data": {
      "text/plain": [
       "23      0.041\n",
       "45      0.041\n",
       "102     0.039\n",
       "126     0.039\n",
       "138     0.205\n",
       "        ...  \n",
       "1865    0.034\n",
       "1887    0.120\n",
       "1934    0.123\n",
       "1967    0.213\n",
       "1983    0.041\n",
       "Name: chlorides, Length: 74, dtype: float64"
      ]
     },
     "execution_count": 13,
     "metadata": {},
     "output_type": "execute_result"
    }
   ],
   "source": [
    "#Checking outliers for one attribute named 'chlorides'\n",
    "outliers = find_outliers_IQR(df_train['chlorides'])\n",
    "print('number of outliers: '+ str(len(outliers)))\n",
    "print('max outlier value: '+ str(outliers.max()))\n",
    "print('min outlier value: '+ str(outliers.min()))\n",
    "outliers"
   ]
  },
  {
   "cell_type": "code",
   "execution_count": 14,
   "id": "14b8aba5",
   "metadata": {
    "execution": {
     "iopub.execute_input": "2023-03-27T20:38:50.027200Z",
     "iopub.status.busy": "2023-03-27T20:38:50.026810Z",
     "iopub.status.idle": "2023-03-27T20:38:50.230448Z",
     "shell.execute_reply": "2023-03-27T20:38:50.229222Z"
    },
    "papermill": {
     "duration": 0.224388,
     "end_time": "2023-03-27T20:38:50.232889",
     "exception": false,
     "start_time": "2023-03-27T20:38:50.008501",
     "status": "completed"
    },
    "tags": []
   },
   "outputs": [
    {
     "data": {
      "text/plain": [
       "<AxesSubplot:xlabel='quality', ylabel='count'>"
      ]
     },
     "execution_count": 14,
     "metadata": {},
     "output_type": "execute_result"
    },
    {
     "data": {
      "image/png": "[encoded data removed]",
      "text/plain": [
       "<Figure size 432x288 with 1 Axes>"
      ]
     },
     "metadata": {
      "needs_background": "light"
     },
     "output_type": "display_data"
    }
   ],
   "source": [
    "#Checking the balance of out target variable\n",
    "sns.countplot(x=\"quality\",data=df_train)"
   ]
  },
  {
   "cell_type": "code",
   "execution_count": 15,
   "id": "28dad27b",
   "metadata": {
    "execution": {
     "iopub.execute_input": "2023-03-27T20:38:50.269673Z",
     "iopub.status.busy": "2023-03-27T20:38:50.269213Z",
     "iopub.status.idle": "2023-03-27T20:38:50.277001Z",
     "shell.execute_reply": "2023-03-27T20:38:50.275889Z"
    },
    "papermill": {
     "duration": 0.029152,
     "end_time": "2023-03-27T20:38:50.279687",
     "exception": false,
     "start_time": "2023-03-27T20:38:50.250535",
     "status": "completed"
    },
    "tags": []
   },
   "outputs": [
    {
     "data": {
      "text/plain": [
       "Index(['fixed acidity', 'volatile acidity', 'citric acid', 'residual sugar',\n",
       "       'chlorides', 'free sulfur dioxide', 'total sulfur dioxide', 'density',\n",
       "       'pH', 'sulphates', 'alcohol', 'quality'],\n",
       "      dtype='object')"
      ]
     },
     "execution_count": 15,
     "metadata": {},
     "output_type": "execute_result"
    }
   ],
   "source": [
    "df_train.columns"
   ]
  },
  {
   "cell_type": "code",
   "execution_count": 16,
   "id": "f59f3cd8",
   "metadata": {
    "execution": {
     "iopub.execute_input": "2023-03-27T20:38:50.316272Z",
     "iopub.status.busy": "2023-03-27T20:38:50.315619Z",
     "iopub.status.idle": "2023-03-27T20:38:52.293379Z",
     "shell.execute_reply": "2023-03-27T20:38:52.292284Z"
    },
    "papermill": {
     "duration": 1.998993,
     "end_time": "2023-03-27T20:38:52.296024",
     "exception": false,
     "start_time": "2023-03-27T20:38:50.297031",
     "status": "completed"
    },
    "tags": []
   },
   "outputs": [
    {
     "data": {
      "image/png": "[encoded data removed]",
      "text/plain": [
       "<Figure size 792x864 with 12 Axes>"
      ]
     },
     "metadata": {
      "needs_background": "light"
     },
     "output_type": "display_data"
    }
   ],
   "source": [
    "#checking how similar is train and test dataset\n",
    "#target=df_train[\"quality\"]\n",
    "fig, ax = plt.subplots(4, 3, figsize = (11, 4*3))\n",
    "for i, col in enumerate(df_train[data]):\n",
    "    sns.kdeplot(data=df_train[data], x=col, fill = True, ax = ax[i // 3][i % 3])#,hue=target)\n",
    "    sns.kdeplot(data=df_test[data], x=col, fill = True, ax = ax[i // 3][i % 3])\n",
    "    "
   ]
  },
  {
   "cell_type": "code",
   "execution_count": 17,
   "id": "e46a1e36",
   "metadata": {
    "execution": {
     "iopub.execute_input": "2023-03-27T20:38:52.334932Z",
     "iopub.status.busy": "2023-03-27T20:38:52.334515Z",
     "iopub.status.idle": "2023-03-27T20:38:53.270940Z",
     "shell.execute_reply": "2023-03-27T20:38:53.269820Z"
    },
    "papermill": {
     "duration": 0.960185,
     "end_time": "2023-03-27T20:38:53.274757",
     "exception": false,
     "start_time": "2023-03-27T20:38:52.314572",
     "status": "completed"
    },
    "tags": []
   },
   "outputs": [
    {
     "data": {
      "text/plain": [
       "<AxesSubplot:>"
      ]
     },
     "execution_count": 17,
     "metadata": {},
     "output_type": "execute_result"
    },
    {
     "data": {
      "image/png": "[encoded data removed]",
      "text/plain": [
       "<Figure size 720x720 with 2 Axes>"
      ]
     },
     "metadata": {
      "needs_background": "light"
     },
     "output_type": "display_data"
    }
   ],
   "source": [
    "#Checking the correlation between the attributes\n",
    "plt.figure(figsize=(10,10))\n",
    "sns.heatmap(df_train.corr(),annot=True,fmt=\".2g\",linewidth=1)"
   ]
  },
  {
   "cell_type": "code",
   "execution_count": 18,
   "id": "5d0ef69d",
   "metadata": {
    "execution": {
     "iopub.execute_input": "2023-03-27T20:38:53.319101Z",
     "iopub.status.busy": "2023-03-27T20:38:53.318706Z",
     "iopub.status.idle": "2023-03-27T20:38:53.326032Z",
     "shell.execute_reply": "2023-03-27T20:38:53.324999Z"
    },
    "papermill": {
     "duration": 0.032085,
     "end_time": "2023-03-27T20:38:53.328263",
     "exception": false,
     "start_time": "2023-03-27T20:38:53.296178",
     "status": "completed"
    },
    "tags": []
   },
   "outputs": [],
   "source": [
    "#Defining categorical and numerical columns \n",
    "cat_cols = []\n",
    "target_col = 'quality'\n",
    "num_cols = df_train.columns.difference(cat_cols+[target_col]).tolist()\n",
    "df_train[target_col] = df_train[target_col].astype('category')"
   ]
  },
  {
   "cell_type": "code",
   "execution_count": 19,
   "id": "c9a55ff1",
   "metadata": {
    "execution": {
     "iopub.execute_input": "2023-03-27T20:38:53.371077Z",
     "iopub.status.busy": "2023-03-27T20:38:53.370646Z",
     "iopub.status.idle": "2023-03-27T20:38:53.377644Z",
     "shell.execute_reply": "2023-03-27T20:38:53.376620Z"
    },
    "papermill": {
     "duration": 0.030595,
     "end_time": "2023-03-27T20:38:53.379834",
     "exception": false,
     "start_time": "2023-03-27T20:38:53.349239",
     "status": "completed"
    },
    "tags": []
   },
   "outputs": [
    {
     "data": {
      "text/plain": [
       "(['alcohol',\n",
       "  'chlorides',\n",
       "  'citric acid',\n",
       "  'density',\n",
       "  'fixed acidity',\n",
       "  'free sulfur dioxide',\n",
       "  'pH',\n",
       "  'residual sugar',\n",
       "  'sulphates',\n",
       "  'total sulfur dioxide',\n",
       "  'volatile acidity'],\n",
       " [])"
      ]
     },
     "execution_count": 19,
     "metadata": {},
     "output_type": "execute_result"
    }
   ],
   "source": [
    "num_cols,cat_cols"
   ]
  },
  {
   "cell_type": "code",
   "execution_count": 20,
   "id": "a21a2cfa",
   "metadata": {
    "execution": {
     "iopub.execute_input": "2023-03-27T20:38:53.422633Z",
     "iopub.status.busy": "2023-03-27T20:38:53.422198Z",
     "iopub.status.idle": "2023-03-27T20:38:53.428649Z",
     "shell.execute_reply": "2023-03-27T20:38:53.427921Z"
    },
    "papermill": {
     "duration": 0.030517,
     "end_time": "2023-03-27T20:38:53.430754",
     "exception": false,
     "start_time": "2023-03-27T20:38:53.400237",
     "status": "completed"
    },
    "tags": []
   },
   "outputs": [
    {
     "data": {
      "text/plain": [
       "Index(['fixed acidity', 'volatile acidity', 'citric acid', 'residual sugar',\n",
       "       'chlorides', 'free sulfur dioxide', 'total sulfur dioxide', 'density',\n",
       "       'pH', 'sulphates', 'alcohol', 'quality'],\n",
       "      dtype='object')"
      ]
     },
     "execution_count": 20,
     "metadata": {},
     "output_type": "execute_result"
    }
   ],
   "source": [
    "df_train.columns"
   ]
  },
  {
   "cell_type": "code",
   "execution_count": 21,
   "id": "c3a9a9bd",
   "metadata": {
    "execution": {
     "iopub.execute_input": "2023-03-27T20:38:53.473890Z",
     "iopub.status.busy": "2023-03-27T20:38:53.473498Z",
     "iopub.status.idle": "2023-03-27T20:38:53.486905Z",
     "shell.execute_reply": "2023-03-27T20:38:53.485724Z"
    },
    "papermill": {
     "duration": 0.038095,
     "end_time": "2023-03-27T20:38:53.489407",
     "exception": false,
     "start_time": "2023-03-27T20:38:53.451312",
     "status": "completed"
    },
    "tags": []
   },
   "outputs": [],
   "source": [
    "#Feature engineering for train dataset\n",
    "df_train['total_acid'] = df_train['fixed acidity'] + df_train['volatile acidity'] + df_train['citric acid']\n",
    "df_train['acid/density'] = df_train['total_acid']  / df_train['density']\n",
    "df_train['alcohol_density'] = df_train['alcohol']  * df_train['density']\n",
    "df_train['sulphate/density'] = df_train['sulphates']  / df_train['density']\n",
    "df_train['sulphates/acid'] = df_train['sulphates'] / df_train['volatile acidity']\n",
    "df_train['sulphates/chlorides'] = df_train['sulphates'] / df_train['chlorides']\n",
    "df_train['sulphates*alcohol'] = df_train['sulphates'] * df_train['alcohol']"
   ]
  },
  {
   "cell_type": "code",
   "execution_count": 22,
   "id": "3e391d2e",
   "metadata": {
    "execution": {
     "iopub.execute_input": "2023-03-27T20:38:53.532908Z",
     "iopub.status.busy": "2023-03-27T20:38:53.532446Z",
     "iopub.status.idle": "2023-03-27T20:38:53.543952Z",
     "shell.execute_reply": "2023-03-27T20:38:53.543091Z"
    },
    "papermill": {
     "duration": 0.035718,
     "end_time": "2023-03-27T20:38:53.546000",
     "exception": false,
     "start_time": "2023-03-27T20:38:53.510282",
     "status": "completed"
    },
    "tags": []
   },
   "outputs": [],
   "source": [
    "#Feature engineering for test dataset\n",
    "df_test['total_acid'] = df_test['fixed acidity'] + df_test['volatile acidity'] + df_test['citric acid']\n",
    "df_test['acid/density'] = df_test['total_acid']  / df_test['density']\n",
    "df_test['alcohol_density'] = df_test['alcohol']  * df_test['density']\n",
    "df_test['sulphate/density'] = df_test['sulphates']  / df_test['density']\n",
    "df_test['sulphates/acid'] = df_test['sulphates'] / df_test['volatile acidity']\n",
    "df_test['sulphates/chlorides'] = df_test['sulphates'] / df_test['chlorides']\n",
    "df_test['sulphates*alcohol'] = df_test['sulphates'] * df_test['alcohol']"
   ]
  },
  {
   "cell_type": "code",
   "execution_count": 23,
   "id": "e515acfb",
   "metadata": {
    "execution": {
     "iopub.execute_input": "2023-03-27T20:38:53.588873Z",
     "iopub.status.busy": "2023-03-27T20:38:53.588418Z",
     "iopub.status.idle": "2023-03-27T20:38:53.595267Z",
     "shell.execute_reply": "2023-03-27T20:38:53.593300Z"
    },
    "papermill": {
     "duration": 0.031346,
     "end_time": "2023-03-27T20:38:53.597783",
     "exception": false,
     "start_time": "2023-03-27T20:38:53.566437",
     "status": "completed"
    },
    "tags": []
   },
   "outputs": [
    {
     "name": "stdout",
     "output_type": "stream",
     "text": [
      "Index(['fixed acidity', 'volatile acidity', 'citric acid', 'residual sugar',\n",
      "       'chlorides', 'free sulfur dioxide', 'total sulfur dioxide', 'density',\n",
      "       'pH', 'sulphates', 'alcohol', 'quality', 'total_acid', 'acid/density',\n",
      "       'alcohol_density', 'sulphate/density', 'sulphates/acid',\n",
      "       'sulphates/chlorides', 'sulphates*alcohol'],\n",
      "      dtype='object')\n",
      "(2056, 19)\n"
     ]
    }
   ],
   "source": [
    "print(df_train.columns)\n",
    "print((df_train.shape))"
   ]
  },
  {
   "cell_type": "code",
   "execution_count": 24,
   "id": "86fd77b2",
   "metadata": {
    "execution": {
     "iopub.execute_input": "2023-03-27T20:38:53.640793Z",
     "iopub.status.busy": "2023-03-27T20:38:53.640356Z",
     "iopub.status.idle": "2023-03-27T20:38:53.646427Z",
     "shell.execute_reply": "2023-03-27T20:38:53.645314Z"
    },
    "papermill": {
     "duration": 0.030583,
     "end_time": "2023-03-27T20:38:53.648889",
     "exception": false,
     "start_time": "2023-03-27T20:38:53.618306",
     "status": "completed"
    },
    "tags": []
   },
   "outputs": [
    {
     "name": "stdout",
     "output_type": "stream",
     "text": [
      "Index(['fixed acidity', 'volatile acidity', 'citric acid', 'residual sugar',\n",
      "       'chlorides', 'free sulfur dioxide', 'total sulfur dioxide', 'density',\n",
      "       'pH', 'sulphates', 'alcohol', 'total_acid', 'acid/density',\n",
      "       'alcohol_density', 'sulphate/density', 'sulphates/acid',\n",
      "       'sulphates/chlorides', 'sulphates*alcohol'],\n",
      "      dtype='object')\n",
      "(1372, 18)\n"
     ]
    }
   ],
   "source": [
    "print(df_test.columns)\n",
    "print((df_test.shape))"
   ]
  },
  {
   "cell_type": "code",
   "execution_count": 25,
   "id": "5e7ea38d",
   "metadata": {
    "execution": {
     "iopub.execute_input": "2023-03-27T20:38:53.692442Z",
     "iopub.status.busy": "2023-03-27T20:38:53.692008Z",
     "iopub.status.idle": "2023-03-27T20:38:53.700420Z",
     "shell.execute_reply": "2023-03-27T20:38:53.699332Z"
    },
    "papermill": {
     "duration": 0.032937,
     "end_time": "2023-03-27T20:38:53.702778",
     "exception": false,
     "start_time": "2023-03-27T20:38:53.669841",
     "status": "completed"
    },
    "tags": []
   },
   "outputs": [],
   "source": [
    "#Dropping the irrelevant and actual features from where the new features were extracted in train dataset\n",
    "df_train.drop(['fixed acidity','volatile acidity','citric acid'],axis=1,inplace=True)\n",
    "df_train.drop(['residual sugar','chlorides','free sulfur dioxide','total sulfur dioxide', 'density','pH','sulphates','alcohol'],axis=1,inplace=True)"
   ]
  },
  {
   "cell_type": "code",
   "execution_count": 26,
   "id": "c11e71f1",
   "metadata": {
    "execution": {
     "iopub.execute_input": "2023-03-27T20:38:53.746265Z",
     "iopub.status.busy": "2023-03-27T20:38:53.745851Z",
     "iopub.status.idle": "2023-03-27T20:38:53.754009Z",
     "shell.execute_reply": "2023-03-27T20:38:53.752996Z"
    },
    "papermill": {
     "duration": 0.032645,
     "end_time": "2023-03-27T20:38:53.756289",
     "exception": false,
     "start_time": "2023-03-27T20:38:53.723644",
     "status": "completed"
    },
    "tags": []
   },
   "outputs": [],
   "source": [
    "#Dropping the irrelevant and actual features from where the new features were extracted in test dataset\n",
    "df_test.drop(['fixed acidity','volatile acidity','citric acid'],axis=1,inplace=True)\n",
    "df_test.drop(['residual sugar','chlorides','free sulfur dioxide','total sulfur dioxide', 'density','pH','sulphates','alcohol'],axis=1,inplace=True)"
   ]
  },
  {
   "cell_type": "code",
   "execution_count": 27,
   "id": "19883f8f",
   "metadata": {
    "execution": {
     "iopub.execute_input": "2023-03-27T20:38:53.800035Z",
     "iopub.status.busy": "2023-03-27T20:38:53.799570Z",
     "iopub.status.idle": "2023-03-27T20:38:53.806774Z",
     "shell.execute_reply": "2023-03-27T20:38:53.805746Z"
    },
    "papermill": {
     "duration": 0.031583,
     "end_time": "2023-03-27T20:38:53.808897",
     "exception": false,
     "start_time": "2023-03-27T20:38:53.777314",
     "status": "completed"
    },
    "tags": []
   },
   "outputs": [
    {
     "data": {
      "text/plain": [
       "Index(['total_acid', 'acid/density', 'alcohol_density', 'sulphate/density',\n",
       "       'sulphates/acid', 'sulphates/chlorides', 'sulphates*alcohol'],\n",
       "      dtype='object')"
      ]
     },
     "execution_count": 27,
     "metadata": {},
     "output_type": "execute_result"
    }
   ],
   "source": [
    "df_test.columns"
   ]
  },
  {
   "cell_type": "code",
   "execution_count": 28,
   "id": "a7ac08b7",
   "metadata": {
    "execution": {
     "iopub.execute_input": "2023-03-27T20:38:53.852326Z",
     "iopub.status.busy": "2023-03-27T20:38:53.851952Z",
     "iopub.status.idle": "2023-03-27T20:38:53.859043Z",
     "shell.execute_reply": "2023-03-27T20:38:53.857942Z"
    },
    "papermill": {
     "duration": 0.031358,
     "end_time": "2023-03-27T20:38:53.861313",
     "exception": false,
     "start_time": "2023-03-27T20:38:53.829955",
     "status": "completed"
    },
    "tags": []
   },
   "outputs": [
    {
     "data": {
      "text/plain": [
       "Index(['quality', 'total_acid', 'acid/density', 'alcohol_density',\n",
       "       'sulphate/density', 'sulphates/acid', 'sulphates/chlorides',\n",
       "       'sulphates*alcohol'],\n",
       "      dtype='object')"
      ]
     },
     "execution_count": 28,
     "metadata": {},
     "output_type": "execute_result"
    }
   ],
   "source": [
    "df_train.columns"
   ]
  },
  {
   "cell_type": "code",
   "execution_count": 29,
   "id": "8a812bcc",
   "metadata": {
    "execution": {
     "iopub.execute_input": "2023-03-27T20:38:53.904716Z",
     "iopub.status.busy": "2023-03-27T20:38:53.904248Z",
     "iopub.status.idle": "2023-03-27T20:38:53.910411Z",
     "shell.execute_reply": "2023-03-27T20:38:53.908983Z"
    },
    "papermill": {
     "duration": 0.031262,
     "end_time": "2023-03-27T20:38:53.913290",
     "exception": false,
     "start_time": "2023-03-27T20:38:53.882028",
     "status": "completed"
    },
    "tags": []
   },
   "outputs": [
    {
     "name": "stdout",
     "output_type": "stream",
     "text": [
      "(2056, 8)\n",
      "(1372, 7)\n"
     ]
    }
   ],
   "source": [
    "print(df_train.shape)\n",
    "print(df_test.shape)"
   ]
  },
  {
   "cell_type": "code",
   "execution_count": 30,
   "id": "b83152ff",
   "metadata": {
    "execution": {
     "iopub.execute_input": "2023-03-27T20:38:53.957483Z",
     "iopub.status.busy": "2023-03-27T20:38:53.957038Z",
     "iopub.status.idle": "2023-03-27T20:38:53.967340Z",
     "shell.execute_reply": "2023-03-27T20:38:53.965972Z"
    },
    "papermill": {
     "duration": 0.035324,
     "end_time": "2023-03-27T20:38:53.969752",
     "exception": false,
     "start_time": "2023-03-27T20:38:53.934428",
     "status": "completed"
    },
    "tags": []
   },
   "outputs": [
    {
     "data": {
      "text/plain": [
       "0       6\n",
       "1       6\n",
       "2       7\n",
       "3       5\n",
       "4       6\n",
       "       ..\n",
       "2051    7\n",
       "2052    5\n",
       "2053    8\n",
       "2054    5\n",
       "2055    7\n",
       "Name: quality, Length: 2056, dtype: category\n",
       "Categories (6, int64): [3, 4, 5, 6, 7, 8]"
      ]
     },
     "execution_count": 30,
     "metadata": {},
     "output_type": "execute_result"
    }
   ],
   "source": [
    "df_train['quality']"
   ]
  },
  {
   "cell_type": "code",
   "execution_count": 31,
   "id": "a1928c07",
   "metadata": {
    "execution": {
     "iopub.execute_input": "2023-03-27T20:38:54.014982Z",
     "iopub.status.busy": "2023-03-27T20:38:54.014594Z",
     "iopub.status.idle": "2023-03-27T20:38:54.214083Z",
     "shell.execute_reply": "2023-03-27T20:38:54.212461Z"
    },
    "papermill": {
     "duration": 0.224868,
     "end_time": "2023-03-27T20:38:54.216246",
     "exception": false,
     "start_time": "2023-03-27T20:38:53.991378",
     "status": "completed"
    },
    "tags": []
   },
   "outputs": [
    {
     "name": "stdout",
     "output_type": "stream",
     "text": [
      "(1439, 7)\n",
      "(617, 7)\n",
      "(1439,)\n",
      "(617,)\n"
     ]
    }
   ],
   "source": [
    "from sklearn.model_selection import train_test_split\n",
    "y=df_train['quality']\n",
    "X=df_train.drop(['quality'],axis=1)\n",
    "X_train,X_test,y_train,y_test=train_test_split(X,y,test_size=0.30,random_state=123)\n",
    "print(X_train.shape)\n",
    "print(X_test.shape)\n",
    "print(y_train.shape)\n",
    "print(y_test.shape)"
   ]
  },
  {
   "cell_type": "code",
   "execution_count": 32,
   "id": "75325b38",
   "metadata": {
    "execution": {
     "iopub.execute_input": "2023-03-27T20:38:54.260431Z",
     "iopub.status.busy": "2023-03-27T20:38:54.259659Z",
     "iopub.status.idle": "2023-03-27T20:38:54.269893Z",
     "shell.execute_reply": "2023-03-27T20:38:54.269065Z"
    },
    "papermill": {
     "duration": 0.034446,
     "end_time": "2023-03-27T20:38:54.271829",
     "exception": false,
     "start_time": "2023-03-27T20:38:54.237383",
     "status": "completed"
    },
    "tags": []
   },
   "outputs": [],
   "source": [
    "#Standardization of the data\n",
    "from sklearn.preprocessing import StandardScaler\n",
    "scaler=StandardScaler()\n",
    "X_train=scaler.fit_transform(X_train)\n",
    "X_test=scaler.transform(X_test)"
   ]
  },
  {
   "cell_type": "code",
   "execution_count": 33,
   "id": "e6728067",
   "metadata": {
    "execution": {
     "iopub.execute_input": "2023-03-27T20:38:54.315241Z",
     "iopub.status.busy": "2023-03-27T20:38:54.314823Z",
     "iopub.status.idle": "2023-03-27T20:38:54.409375Z",
     "shell.execute_reply": "2023-03-27T20:38:54.408428Z"
    },
    "papermill": {
     "duration": 0.119225,
     "end_time": "2023-03-27T20:38:54.411992",
     "exception": false,
     "start_time": "2023-03-27T20:38:54.292767",
     "status": "completed"
    },
    "tags": []
   },
   "outputs": [],
   "source": [
    "#reducing the dimensions of the data through pca\n",
    "from sklearn.decomposition import PCA \n",
    "pca=PCA(7)"
   ]
  },
  {
   "cell_type": "code",
   "execution_count": 34,
   "id": "ebee9c7d",
   "metadata": {
    "execution": {
     "iopub.execute_input": "2023-03-27T20:38:54.455427Z",
     "iopub.status.busy": "2023-03-27T20:38:54.455025Z",
     "iopub.status.idle": "2023-03-27T20:38:54.472411Z",
     "shell.execute_reply": "2023-03-27T20:38:54.471197Z"
    },
    "papermill": {
     "duration": 0.042949,
     "end_time": "2023-03-27T20:38:54.475949",
     "exception": false,
     "start_time": "2023-03-27T20:38:54.433000",
     "status": "completed"
    },
    "tags": []
   },
   "outputs": [],
   "source": [
    "x_train_pca=pca.fit_transform(X_train)\n",
    "x_test_pca=pca.fit_transform(X_test)"
   ]
  },
  {
   "cell_type": "code",
   "execution_count": 35,
   "id": "67a793b9",
   "metadata": {
    "execution": {
     "iopub.execute_input": "2023-03-27T20:38:54.526854Z",
     "iopub.status.busy": "2023-03-27T20:38:54.526052Z",
     "iopub.status.idle": "2023-03-27T20:38:54.820522Z",
     "shell.execute_reply": "2023-03-27T20:38:54.819374Z"
    },
    "papermill": {
     "duration": 0.319526,
     "end_time": "2023-03-27T20:38:54.822935",
     "exception": false,
     "start_time": "2023-03-27T20:38:54.503409",
     "status": "completed"
    },
    "tags": []
   },
   "outputs": [
    {
     "data": {
      "image/png": "[encoded data removed]",
      "text/plain": [
       "<Figure size 432x288 with 1 Axes>"
      ]
     },
     "metadata": {
      "needs_background": "light"
     },
     "output_type": "display_data"
    }
   ],
   "source": [
    "exp_var_pca = pca.explained_variance_ratio_\n",
    "#\n",
    "# Cumulative sum of eigenvalues; This will be used to create step plot\n",
    "# for visualizing the variance explained by each principal component.\n",
    "#\n",
    "cum_sum_eigenvalues = np.cumsum(exp_var_pca)\n",
    "#\n",
    "# Create the visualization plot\n",
    "#\n",
    "plt.bar(range(0,len(exp_var_pca)), exp_var_pca, alpha=0.5, align='center', label='Individual explained variance')\n",
    "plt.step(range(0,len(cum_sum_eigenvalues)), cum_sum_eigenvalues, where='mid',label='Cumulative explained variance')\n",
    "plt.ylabel('Explained variance ratio')\n",
    "plt.xlabel('Principal component index')\n",
    "plt.legend(loc='best')\n",
    "plt.tight_layout()\n",
    "plt.show()"
   ]
  },
  {
   "cell_type": "code",
   "execution_count": 36,
   "id": "83057592",
   "metadata": {
    "execution": {
     "iopub.execute_input": "2023-03-27T20:38:54.869471Z",
     "iopub.status.busy": "2023-03-27T20:38:54.868251Z",
     "iopub.status.idle": "2023-03-27T20:38:54.874015Z",
     "shell.execute_reply": "2023-03-27T20:38:54.873089Z"
    },
    "papermill": {
     "duration": 0.032021,
     "end_time": "2023-03-27T20:38:54.876303",
     "exception": false,
     "start_time": "2023-03-27T20:38:54.844282",
     "status": "completed"
    },
    "tags": []
   },
   "outputs": [],
   "source": [
    "X_train_new = x_train_pca[:,:4]\n",
    "X_test_new = x_test_pca[:,:4]"
   ]
  },
  {
   "cell_type": "code",
   "execution_count": 37,
   "id": "567b0bce",
   "metadata": {
    "execution": {
     "iopub.execute_input": "2023-03-27T20:38:54.922325Z",
     "iopub.status.busy": "2023-03-27T20:38:54.921198Z",
     "iopub.status.idle": "2023-03-27T20:38:55.037310Z",
     "shell.execute_reply": "2023-03-27T20:38:55.036299Z"
    },
    "papermill": {
     "duration": 0.141364,
     "end_time": "2023-03-27T20:38:55.039800",
     "exception": false,
     "start_time": "2023-03-27T20:38:54.898436",
     "status": "completed"
    },
    "tags": []
   },
   "outputs": [],
   "source": [
    "from sklearn.metrics import cohen_kappa_score\n",
    "from sklearn.ensemble import RandomForestClassifier\n",
    "from sklearn.model_selection import GridSearchCV"
   ]
  },
  {
   "cell_type": "code",
   "execution_count": 38,
   "id": "29be5903",
   "metadata": {
    "execution": {
     "iopub.execute_input": "2023-03-27T20:38:55.085234Z",
     "iopub.status.busy": "2023-03-27T20:38:55.084183Z",
     "iopub.status.idle": "2023-03-27T20:38:55.431889Z",
     "shell.execute_reply": "2023-03-27T20:38:55.430767Z"
    },
    "papermill": {
     "duration": 0.373586,
     "end_time": "2023-03-27T20:38:55.434768",
     "exception": false,
     "start_time": "2023-03-27T20:38:55.061182",
     "status": "completed"
    },
    "tags": []
   },
   "outputs": [],
   "source": [
    "rf=RandomForestClassifier(class_weight='balanced',n_estimators=100,oob_score=True,verbose=0,max_depth=4)\n",
    "rf.fit(X_train_new, y_train)\n",
    "y_pred = rf.predict(X_test_new)\n",
    "y_trains=rf.predict(X_train_new) "
   ]
  },
  {
   "cell_type": "code",
   "execution_count": 39,
   "id": "5e1fd2ca",
   "metadata": {
    "execution": {
     "iopub.execute_input": "2023-03-27T20:38:55.479787Z",
     "iopub.status.busy": "2023-03-27T20:38:55.479136Z",
     "iopub.status.idle": "2023-03-27T20:38:55.490752Z",
     "shell.execute_reply": "2023-03-27T20:38:55.489476Z"
    },
    "papermill": {
     "duration": 0.037126,
     "end_time": "2023-03-27T20:38:55.493314",
     "exception": false,
     "start_time": "2023-03-27T20:38:55.456188",
     "status": "completed"
    },
    "tags": []
   },
   "outputs": [
    {
     "name": "stdout",
     "output_type": "stream",
     "text": [
      "31.29187514124634\n",
      "20.009205126763728\n"
     ]
    }
   ],
   "source": [
    "print(cohen_kappa_score(y_train, y_trains)*100)\n",
    "print(cohen_kappa_score(y_test, y_pred)*100)"
   ]
  },
  {
   "cell_type": "code",
   "execution_count": 40,
   "id": "2441b733",
   "metadata": {
    "execution": {
     "iopub.execute_input": "2023-03-27T20:38:55.539021Z",
     "iopub.status.busy": "2023-03-27T20:38:55.537966Z",
     "iopub.status.idle": "2023-03-27T20:38:55.544063Z",
     "shell.execute_reply": "2023-03-27T20:38:55.542944Z"
    },
    "papermill": {
     "duration": 0.031063,
     "end_time": "2023-03-27T20:38:55.546271",
     "exception": false,
     "start_time": "2023-03-27T20:38:55.515208",
     "status": "completed"
    },
    "tags": []
   },
   "outputs": [],
   "source": [
    "#gridsearch for rf\n",
    "param_grid={'n_estimators':[400,500,700],'max_depth':[4,5,6,7,8,9,11],'criterion':['entropy']}\n"
   ]
  },
  {
   "cell_type": "code",
   "execution_count": 41,
   "id": "9bc3d85e",
   "metadata": {
    "execution": {
     "iopub.execute_input": "2023-03-27T20:38:55.595477Z",
     "iopub.status.busy": "2023-03-27T20:38:55.594877Z",
     "iopub.status.idle": "2023-03-27T20:38:55.601820Z",
     "shell.execute_reply": "2023-03-27T20:38:55.600454Z"
    },
    "papermill": {
     "duration": 0.036977,
     "end_time": "2023-03-27T20:38:55.604628",
     "exception": false,
     "start_time": "2023-03-27T20:38:55.567651",
     "status": "completed"
    },
    "tags": []
   },
   "outputs": [],
   "source": [
    "from sklearn.metrics import make_scorer\n",
    "kappa_scorer = make_scorer(cohen_kappa_score,weights='quadratic')\n",
    "#the parameters in make_scorer is scoring function asked in the question and function quadratic \n"
   ]
  },
  {
   "cell_type": "code",
   "execution_count": 42,
   "id": "cd1fa356",
   "metadata": {
    "execution": {
     "iopub.execute_input": "2023-03-27T20:38:55.665981Z",
     "iopub.status.busy": "2023-03-27T20:38:55.665348Z",
     "iopub.status.idle": "2023-03-27T20:38:55.670741Z",
     "shell.execute_reply": "2023-03-27T20:38:55.669599Z"
    },
    "papermill": {
     "duration": 0.036253,
     "end_time": "2023-03-27T20:38:55.673260",
     "exception": false,
     "start_time": "2023-03-27T20:38:55.637007",
     "status": "completed"
    },
    "tags": []
   },
   "outputs": [],
   "source": [
    "#defining the final grid \n",
    "grid_rf = GridSearchCV(rf, param_grid, cv=5,verbose=0,scoring=kappa_scorer,n_jobs=-1)\n"
   ]
  },
  {
   "cell_type": "code",
   "execution_count": 43,
   "id": "7152be2a",
   "metadata": {
    "execution": {
     "iopub.execute_input": "2023-03-27T20:38:55.718658Z",
     "iopub.status.busy": "2023-03-27T20:38:55.717526Z",
     "iopub.status.idle": "2023-03-27T20:40:36.631065Z",
     "shell.execute_reply": "2023-03-27T20:40:36.629730Z"
    },
    "papermill": {
     "duration": 100.95704,
     "end_time": "2023-03-27T20:40:36.652011",
     "exception": false,
     "start_time": "2023-03-27T20:38:55.694971",
     "status": "completed"
    },
    "tags": []
   },
   "outputs": [
    {
     "data": {
      "text/plain": [
       "GridSearchCV(cv=5,\n",
       "             estimator=RandomForestClassifier(class_weight='balanced',\n",
       "                                              max_depth=4, oob_score=True),\n",
       "             n_jobs=-1,\n",
       "             param_grid={'criterion': ['entropy'],\n",
       "                         'max_depth': [4, 5, 6, 7, 8, 9, 11],\n",
       "                         'n_estimators': [400, 500, 700]},\n",
       "             scoring=make_scorer(cohen_kappa_score, weights=quadratic))"
      ]
     },
     "execution_count": 43,
     "metadata": {},
     "output_type": "execute_result"
    }
   ],
   "source": [
    "grid_rf.fit(X_train_new,y_train)"
   ]
  },
  {
   "cell_type": "code",
   "execution_count": 44,
   "id": "2ec174e3",
   "metadata": {
    "execution": {
     "iopub.execute_input": "2023-03-27T20:40:36.696657Z",
     "iopub.status.busy": "2023-03-27T20:40:36.696190Z",
     "iopub.status.idle": "2023-03-27T20:40:36.703727Z",
     "shell.execute_reply": "2023-03-27T20:40:36.702720Z"
    },
    "papermill": {
     "duration": 0.032905,
     "end_time": "2023-03-27T20:40:36.706027",
     "exception": false,
     "start_time": "2023-03-27T20:40:36.673122",
     "status": "completed"
    },
    "tags": []
   },
   "outputs": [
    {
     "data": {
      "text/plain": [
       "Index(['quality', 'total_acid', 'acid/density', 'alcohol_density',\n",
       "       'sulphate/density', 'sulphates/acid', 'sulphates/chlorides',\n",
       "       'sulphates*alcohol'],\n",
       "      dtype='object')"
      ]
     },
     "execution_count": 44,
     "metadata": {},
     "output_type": "execute_result"
    }
   ],
   "source": [
    "df_train.columns"
   ]
  },
  {
   "cell_type": "code",
   "execution_count": 45,
   "id": "0df8cea9",
   "metadata": {
    "execution": {
     "iopub.execute_input": "2023-03-27T20:40:36.750586Z",
     "iopub.status.busy": "2023-03-27T20:40:36.750135Z",
     "iopub.status.idle": "2023-03-27T20:40:36.757089Z",
     "shell.execute_reply": "2023-03-27T20:40:36.756110Z"
    },
    "papermill": {
     "duration": 0.031928,
     "end_time": "2023-03-27T20:40:36.759435",
     "exception": false,
     "start_time": "2023-03-27T20:40:36.727507",
     "status": "completed"
    },
    "tags": []
   },
   "outputs": [
    {
     "data": {
      "text/plain": [
       "Index(['total_acid', 'acid/density', 'alcohol_density', 'sulphate/density',\n",
       "       'sulphates/acid', 'sulphates/chlorides', 'sulphates*alcohol'],\n",
       "      dtype='object')"
      ]
     },
     "execution_count": 45,
     "metadata": {},
     "output_type": "execute_result"
    }
   ],
   "source": [
    "df_test.columns"
   ]
  },
  {
   "cell_type": "code",
   "execution_count": 46,
   "id": "bc4f387d",
   "metadata": {
    "execution": {
     "iopub.execute_input": "2023-03-27T20:40:36.804234Z",
     "iopub.status.busy": "2023-03-27T20:40:36.803846Z",
     "iopub.status.idle": "2023-03-27T20:40:36.811254Z",
     "shell.execute_reply": "2023-03-27T20:40:36.810217Z"
    },
    "papermill": {
     "duration": 0.032592,
     "end_time": "2023-03-27T20:40:36.813477",
     "exception": false,
     "start_time": "2023-03-27T20:40:36.780885",
     "status": "completed"
    },
    "tags": []
   },
   "outputs": [
    {
     "data": {
      "text/plain": [
       "(RandomForestClassifier(class_weight='balanced', criterion='entropy',\n",
       "                        max_depth=7, n_estimators=700, oob_score=True),\n",
       " 0.5011292114978934)"
      ]
     },
     "execution_count": 46,
     "metadata": {},
     "output_type": "execute_result"
    }
   ],
   "source": [
    "grid_rf.best_estimator_,grid_rf.best_score_"
   ]
  },
  {
   "cell_type": "code",
   "execution_count": 47,
   "id": "d8035653",
   "metadata": {
    "execution": {
     "iopub.execute_input": "2023-03-27T20:40:36.858865Z",
     "iopub.status.busy": "2023-03-27T20:40:36.858436Z",
     "iopub.status.idle": "2023-03-27T20:40:37.240254Z",
     "shell.execute_reply": "2023-03-27T20:40:37.239298Z"
    },
    "papermill": {
     "duration": 0.407767,
     "end_time": "2023-03-27T20:40:37.242981",
     "exception": false,
     "start_time": "2023-03-27T20:40:36.835214",
     "status": "completed"
    },
    "tags": []
   },
   "outputs": [],
   "source": [
    "y_train_pred = grid_rf.best_estimator_.predict(X_train_new)\n",
    "y_test_pred = grid_rf.best_estimator_.predict(X_test_new)"
   ]
  },
  {
   "cell_type": "code",
   "execution_count": 48,
   "id": "49faf668",
   "metadata": {
    "execution": {
     "iopub.execute_input": "2023-03-27T20:40:37.288385Z",
     "iopub.status.busy": "2023-03-27T20:40:37.288001Z",
     "iopub.status.idle": "2023-03-27T20:40:37.298860Z",
     "shell.execute_reply": "2023-03-27T20:40:37.297299Z"
    },
    "papermill": {
     "duration": 0.037352,
     "end_time": "2023-03-27T20:40:37.302284",
     "exception": false,
     "start_time": "2023-03-27T20:40:37.264932",
     "status": "completed"
    },
    "tags": []
   },
   "outputs": [
    {
     "name": "stdout",
     "output_type": "stream",
     "text": [
      "56.81859646033283\n",
      "30.011419754265223\n"
     ]
    }
   ],
   "source": [
    "print(cohen_kappa_score(y_train, y_train_pred)*100)\n",
    "print(cohen_kappa_score(y_test, y_test_pred)*100)"
   ]
  },
  {
   "cell_type": "code",
   "execution_count": 49,
   "id": "5ea8bf8c",
   "metadata": {
    "execution": {
     "iopub.execute_input": "2023-03-27T20:40:37.348302Z",
     "iopub.status.busy": "2023-03-27T20:40:37.347921Z",
     "iopub.status.idle": "2023-03-27T20:40:37.355664Z",
     "shell.execute_reply": "2023-03-27T20:40:37.354629Z"
    },
    "papermill": {
     "duration": 0.0332,
     "end_time": "2023-03-27T20:40:37.357904",
     "exception": false,
     "start_time": "2023-03-27T20:40:37.324704",
     "status": "completed"
    },
    "tags": []
   },
   "outputs": [],
   "source": [
    "#Standardization of the data\n",
    "X_testdf=scaler.transform(df_test)"
   ]
  },
  {
   "cell_type": "code",
   "execution_count": 50,
   "id": "515d7b89",
   "metadata": {
    "execution": {
     "iopub.execute_input": "2023-03-27T20:40:37.404116Z",
     "iopub.status.busy": "2023-03-27T20:40:37.403731Z",
     "iopub.status.idle": "2023-03-27T20:40:37.410889Z",
     "shell.execute_reply": "2023-03-27T20:40:37.409881Z"
    },
    "papermill": {
     "duration": 0.032967,
     "end_time": "2023-03-27T20:40:37.413084",
     "exception": false,
     "start_time": "2023-03-27T20:40:37.380117",
     "status": "completed"
    },
    "tags": []
   },
   "outputs": [
    {
     "data": {
      "text/plain": [
       "Index(['total_acid', 'acid/density', 'alcohol_density', 'sulphate/density',\n",
       "       'sulphates/acid', 'sulphates/chlorides', 'sulphates*alcohol'],\n",
       "      dtype='object')"
      ]
     },
     "execution_count": 50,
     "metadata": {},
     "output_type": "execute_result"
    }
   ],
   "source": [
    "df_test.columns"
   ]
  },
  {
   "cell_type": "code",
   "execution_count": 51,
   "id": "841a1b5f",
   "metadata": {
    "execution": {
     "iopub.execute_input": "2023-03-27T20:40:37.458414Z",
     "iopub.status.busy": "2023-03-27T20:40:37.457666Z",
     "iopub.status.idle": "2023-03-27T20:40:37.473993Z",
     "shell.execute_reply": "2023-03-27T20:40:37.472491Z"
    },
    "papermill": {
     "duration": 0.043031,
     "end_time": "2023-03-27T20:40:37.477737",
     "exception": false,
     "start_time": "2023-03-27T20:40:37.434706",
     "status": "completed"
    },
    "tags": []
   },
   "outputs": [],
   "source": [
    "pca=PCA(7)\n",
    "x_testdf_pca=pca.fit(df_test)\n",
    "\n",
    "x_testdf_pca=pca.transform(df_test)\n",
    "x_testdf_pca=pca.fit_transform(df_test)\n"
   ]
  },
  {
   "cell_type": "code",
   "execution_count": 52,
   "id": "a54ce61d",
   "metadata": {
    "execution": {
     "iopub.execute_input": "2023-03-27T20:40:37.590502Z",
     "iopub.status.busy": "2023-03-27T20:40:37.590142Z",
     "iopub.status.idle": "2023-03-27T20:40:37.595074Z",
     "shell.execute_reply": "2023-03-27T20:40:37.593896Z"
    },
    "papermill": {
     "duration": 0.063754,
     "end_time": "2023-03-27T20:40:37.597220",
     "exception": false,
     "start_time": "2023-03-27T20:40:37.533466",
     "status": "completed"
    },
    "tags": []
   },
   "outputs": [],
   "source": [
    "X_test_new=x_testdf_pca[:,:4]"
   ]
  },
  {
   "cell_type": "code",
   "execution_count": 53,
   "id": "b5a01574",
   "metadata": {
    "execution": {
     "iopub.execute_input": "2023-03-27T20:40:37.642313Z",
     "iopub.status.busy": "2023-03-27T20:40:37.641612Z",
     "iopub.status.idle": "2023-03-27T20:40:37.884581Z",
     "shell.execute_reply": "2023-03-27T20:40:37.883747Z"
    },
    "papermill": {
     "duration": 0.267894,
     "end_time": "2023-03-27T20:40:37.886923",
     "exception": false,
     "start_time": "2023-03-27T20:40:37.619029",
     "status": "completed"
    },
    "tags": []
   },
   "outputs": [],
   "source": [
    "submission = pd.read_csv('/kaggle/input/playground-series-s3e5/sample_submission.csv')\n",
    "submission['quality'] = grid_rf.best_estimator_.predict(X_test_new)\n",
    "submission.to_csv('submission_grid_rf1.csv', index=False)"
   ]
  },
  {
   "cell_type": "code",
   "execution_count": null,
   "id": "6c046cee",
   "metadata": {
    "papermill": {
     "duration": 0.021202,
     "end_time": "2023-03-27T20:40:37.929693",
     "exception": false,
     "start_time": "2023-03-27T20:40:37.908491",
     "status": "completed"
    },
    "tags": []
   },
   "outputs": [],
   "source": []
  },
  {
   "cell_type": "code",
   "execution_count": 54,
   "id": "0432cfbc",
   "metadata": {
    "execution": {
     "iopub.execute_input": "2023-03-27T20:40:37.975429Z",
     "iopub.status.busy": "2023-03-27T20:40:37.974472Z",
     "iopub.status.idle": "2023-03-27T20:40:37.979099Z",
     "shell.execute_reply": "2023-03-27T20:40:37.978078Z"
    },
    "papermill": {
     "duration": 0.029677,
     "end_time": "2023-03-27T20:40:37.981201",
     "exception": false,
     "start_time": "2023-03-27T20:40:37.951524",
     "status": "completed"
    },
    "tags": []
   },
   "outputs": [],
   "source": [
    "#\\print(cohen_kappa_score(le.inverse_transform(y_train), le.inverse_transform(y_train_pred))*100)\n",
    "#print(cohen_kappa_score(le.inverse_transform(y_test), le.inverse_transform(y_test_pred))*100)"
   ]
  },
  {
   "cell_type": "code",
   "execution_count": 55,
   "id": "8c2612df",
   "metadata": {
    "execution": {
     "iopub.execute_input": "2023-03-27T20:40:38.027892Z",
     "iopub.status.busy": "2023-03-27T20:40:38.027135Z",
     "iopub.status.idle": "2023-03-27T20:40:38.031159Z",
     "shell.execute_reply": "2023-03-27T20:40:38.030345Z"
    },
    "papermill": {
     "duration": 0.029518,
     "end_time": "2023-03-27T20:40:38.033167",
     "exception": false,
     "start_time": "2023-03-27T20:40:38.003649",
     "status": "completed"
    },
    "tags": []
   },
   "outputs": [],
   "source": [
    "#from sklearn.linear_model import LogisticRegression \n",
    "#lr=LogisticRegression(class_weight=\"balanced\",max_iter=1000)\n",
    "#lr.fit(X_train, y_train)\n",
    "#y_pred = lr.predict(X_test)\n",
    "#y_trains=lr.predict(X_train)"
   ]
  },
  {
   "cell_type": "code",
   "execution_count": 56,
   "id": "83eabb78",
   "metadata": {
    "execution": {
     "iopub.execute_input": "2023-03-27T20:40:38.078473Z",
     "iopub.status.busy": "2023-03-27T20:40:38.077736Z",
     "iopub.status.idle": "2023-03-27T20:40:38.081581Z",
     "shell.execute_reply": "2023-03-27T20:40:38.080747Z"
    },
    "papermill": {
     "duration": 0.028659,
     "end_time": "2023-03-27T20:40:38.083537",
     "exception": false,
     "start_time": "2023-03-27T20:40:38.054878",
     "status": "completed"
    },
    "tags": []
   },
   "outputs": [],
   "source": [
    "#print(cohen_kappa_score(y_train, y_trains)*100)\n",
    "#print(cohen_kappa_score(y_test, y_pred)*100)"
   ]
  },
  {
   "cell_type": "code",
   "execution_count": 57,
   "id": "64501d42",
   "metadata": {
    "execution": {
     "iopub.execute_input": "2023-03-27T20:40:38.128833Z",
     "iopub.status.busy": "2023-03-27T20:40:38.128124Z",
     "iopub.status.idle": "2023-03-27T20:40:38.131952Z",
     "shell.execute_reply": "2023-03-27T20:40:38.131180Z"
    },
    "papermill": {
     "duration": 0.028681,
     "end_time": "2023-03-27T20:40:38.133842",
     "exception": false,
     "start_time": "2023-03-27T20:40:38.105161",
     "status": "completed"
    },
    "tags": []
   },
   "outputs": [],
   "source": [
    "#submission = pd.read_csv('/kaggle/input/playground-series-s3e5/sample_submission.csv')\n"
   ]
  },
  {
   "cell_type": "code",
   "execution_count": 58,
   "id": "23ae6638",
   "metadata": {
    "execution": {
     "iopub.execute_input": "2023-03-27T20:40:38.180622Z",
     "iopub.status.busy": "2023-03-27T20:40:38.179927Z",
     "iopub.status.idle": "2023-03-27T20:40:38.343100Z",
     "shell.execute_reply": "2023-03-27T20:40:38.341516Z"
    },
    "papermill": {
     "duration": 0.188634,
     "end_time": "2023-03-27T20:40:38.345344",
     "exception": true,
     "start_time": "2023-03-27T20:40:38.156710",
     "status": "failed"
    },
    "tags": []
   },
   "outputs": [
    {
     "ename": "NameError",
     "evalue": "name 'RidgeClassifier' is not defined",
     "output_type": "error",
     "traceback": [
      "\u001b[0;31m---------------------------------------------------------------------------\u001b[0m",
      "\u001b[0;31mNameError\u001b[0m                                 Traceback (most recent call last)",
      "\u001b[0;32m/tmp/ipykernel_19/3866893485.py\u001b[0m in \u001b[0;36m<module>\u001b[0;34m\u001b[0m\n\u001b[1;32m      1\u001b[0m \u001b[0;31m#from sklearn.linear_model import RidgeClassifier\u001b[0m\u001b[0;34m\u001b[0m\u001b[0;34m\u001b[0m\u001b[0;34m\u001b[0m\u001b[0m\n\u001b[0;32m----> 2\u001b[0;31m \u001b[0mrc\u001b[0m \u001b[0;34m=\u001b[0m \u001b[0mRidgeClassifier\u001b[0m\u001b[0;34m(\u001b[0m\u001b[0;34m)\u001b[0m\u001b[0;34m\u001b[0m\u001b[0;34m\u001b[0m\u001b[0m\n\u001b[0m\u001b[1;32m      3\u001b[0m \u001b[0mprint\u001b[0m\u001b[0;34m(\u001b[0m\u001b[0mrc\u001b[0m\u001b[0;34m)\u001b[0m\u001b[0;34m\u001b[0m\u001b[0;34m\u001b[0m\u001b[0m\n\u001b[1;32m      4\u001b[0m RidgeClassifier(alpha=1.0, class_weight=None, copy_X=True, fit_intercept=True,\n\u001b[1;32m      5\u001b[0m                 \u001b[0mmax_iter\u001b[0m\u001b[0;34m=\u001b[0m\u001b[0;32mNone\u001b[0m\u001b[0;34m,\u001b[0m \u001b[0mnormalize\u001b[0m\u001b[0;34m=\u001b[0m\u001b[0;32mTrue\u001b[0m\u001b[0;34m,\u001b[0m \u001b[0mrandom_state\u001b[0m\u001b[0;34m=\u001b[0m\u001b[0;32mNone\u001b[0m\u001b[0;34m,\u001b[0m \u001b[0msolver\u001b[0m\u001b[0;34m=\u001b[0m\u001b[0;34m'auto'\u001b[0m\u001b[0;34m,\u001b[0m\u001b[0;34m\u001b[0m\u001b[0;34m\u001b[0m\u001b[0m\n",
      "\u001b[0;31mNameError\u001b[0m: name 'RidgeClassifier' is not defined"
     ]
    }
   ],
   "source": [
    "#from sklearn.linear_model import RidgeClassifier\n",
    "rc = RidgeClassifier()\n",
    "print(rc)\n",
    "RidgeClassifier(alpha=1.0, class_weight=None, copy_X=True, fit_intercept=True,\n",
    "                max_iter=None, normalize=True, random_state=None, solver='auto',\n",
    "                tol=0.001)\n",
    "rc.fit(X_train, y_train)\n",
    "y_pred = rc.predict(X_test)\n",
    "y_trains=rc.predict(X_train)\n",
    "print(cohen_kappa_score(y_train, y_trains)*100)\n",
    "print(cohen_kappa_score(y_test, y_pred)*100)\n"
   ]
  },
  {
   "cell_type": "code",
   "execution_count": null,
   "id": "d9cad84b",
   "metadata": {
    "execution": {
     "iopub.status.busy": "2023-02-08T11:10:48.987536Z",
     "iopub.status.idle": "2023-02-08T11:10:48.988051Z",
     "shell.execute_reply": "2023-02-08T11:10:48.987852Z",
     "shell.execute_reply.started": "2023-02-08T11:10:48.987823Z"
    },
    "papermill": {
     "duration": null,
     "end_time": null,
     "exception": null,
     "start_time": null,
     "status": "pending"
    },
    "tags": []
   },
   "outputs": [],
   "source": [
    "#submission['quality'] = grid_rf.best_estimator_.predict(df_test)"
   ]
  },
  {
   "cell_type": "code",
   "execution_count": null,
   "id": "c1d1ace8",
   "metadata": {
    "execution": {
     "iopub.status.busy": "2023-02-08T11:10:48.989869Z",
     "iopub.status.idle": "2023-02-08T11:10:48.990408Z",
     "shell.execute_reply": "2023-02-08T11:10:48.990151Z",
     "shell.execute_reply.started": "2023-02-08T11:10:48.990125Z"
    },
    "papermill": {
     "duration": null,
     "end_time": null,
     "exception": null,
     "start_time": null,
     "status": "pending"
    },
    "tags": []
   },
   "outputs": [],
   "source": [
    "#submission.to_csv('submission_grid_rf1.csv', index=False)"
   ]
  },
  {
   "cell_type": "code",
   "execution_count": null,
   "id": "64c0ccc0",
   "metadata": {
    "papermill": {
     "duration": null,
     "end_time": null,
     "exception": null,
     "start_time": null,
     "status": "pending"
    },
    "tags": []
   },
   "outputs": [],
   "source": []
  }
 ],
 "metadata": {
  "kernelspec": {
   "display_name": "Python 3",
   "language": "python",
   "name": "python3"
  },
  "language_info": {
   "codemirror_mode": {
    "name": "ipython",
    "version": 3
   },
   "file_extension": ".py",
   "mimetype": "text/x-python",
   "name": "python",
   "nbconvert_exporter": "python",
   "pygments_lexer": "ipython3",
   "version": "3.7.12"
  },
  "papermill": {
   "default_parameters": {},
   "duration": 125.232117,
   "end_time": "2023-03-27T20:40:40.988739",
   "environment_variables": {},
   "exception": true,
   "input_path": "__notebook__.ipynb",
   "output_path": "__notebook__.ipynb",
   "parameters": {},
   "start_time": "2023-03-27T20:38:35.756622",
   "version": "2.3.4"
  }
 },
 "nbformat": 4,
 "nbformat_minor": 5
}
